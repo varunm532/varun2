{
 "cells": [
  {
   "cell_type": "code",
   "execution_count": 2,
   "metadata": {},
   "outputs": [
    {
     "name": "stdout",
     "output_type": "stream",
     "text": [
      "[{'FirstName': 'John', 'LastName': 'Mortensen', 'DOB': 'October 21', 'Residence': 'San Diego', 'Email': 'jmortensen@powayusd.com', 'Owns_Cars': ['2015-Fusion', '2011-Ranger', '2003-Excursion', '1997-F350', '1969-Cadillac']}, {'FirstName': 'Sunny', 'LastName': 'Naidu', 'DOB': 'August 2', 'Residence': 'Temecula', 'Email': 'snaidu@powayusd.com', 'Owns_Cars': ['4Runner']}, {'FirstName': 'Shane', 'LastName': 'Lopez', 'DOB': 'February 27', 'Residence': 'San Diego', 'Email': '???@powayusd.com', 'Owns_Cars': ['2021-Insight']}, {'FirstName': 'Varun', 'LastName': 'Manoj Pillai', 'DOB': 'August 1st', 'Residency': 'San Diego', 'Email': 'varunm21266@stu.powayusd.com', 'Owns_Cars': 'none'}]\n"
     ]
    }
   ],
   "source": [
    "# Define an empty List called InfoDb\n",
    "InfoDb = []\n",
    "\n",
    "# InfoDB is a data structure with expected Keys and Values\n",
    "\n",
    "# Append to List a Dictionary of key/values related to a person and cars\n",
    "InfoDb.append({\n",
    "    \"FirstName\": \"John\",\n",
    "    \"LastName\": \"Mortensen\",\n",
    "    \"DOB\": \"October 21\",\n",
    "    \"Residence\": \"San Diego\",\n",
    "    \"Email\": \"jmortensen@powayusd.com\",\n",
    "    \"Owns_Cars\": [\"2015-Fusion\", \"2011-Ranger\", \"2003-Excursion\", \"1997-F350\", \"1969-Cadillac\"]\n",
    "})\n",
    "\n",
    "# Append to List a 2nd Dictionary of key/values\n",
    "InfoDb.append({\n",
    "    \"FirstName\": \"Sunny\",\n",
    "    \"LastName\": \"Naidu\",\n",
    "    \"DOB\": \"August 2\",\n",
    "    \"Residence\": \"Temecula\",\n",
    "    \"Email\": \"snaidu@powayusd.com\",\n",
    "    \"Owns_Cars\": [\"4Runner\"]\n",
    "})\n",
    "\n",
    "# Append to List a 2nd Dictionary of key/values\n",
    "InfoDb.append({\n",
    "    \"FirstName\": \"Shane\",\n",
    "    \"LastName\": \"Lopez\",\n",
    "    \"DOB\": \"February 27\",\n",
    "    \"Residence\": \"San Diego\",\n",
    "    \"Email\": \"???@powayusd.com\",\n",
    "    \"Owns_Cars\": [\"2021-Insight\"]\n",
    "})\n",
    "\n",
    "# Append to List a 3rd Dictionary of key/values\n",
    "InfoDb.append({\n",
    "    \"FirstName\": \"Varun\",\n",
    "    \"LastName\": \"Manoj Pillai\",\n",
    "    \"DOB\": \"August 1st\",\n",
    "    \"Residency\":  \"San Diego\",\n",
    "    \"Email\": \"varunm21266@stu.powayusd.com\",\n",
    "    \"Owns_Cars\": \"none\"\n",
    "})\n",
    "\n",
    "# Print the data structure\n",
    "print(InfoDb)\n"
   ]
  }
 ],
 "metadata": {
  "kernelspec": {
   "display_name": "Python 3",
   "language": "python",
   "name": "python3"
  },
  "language_info": {
   "codemirror_mode": {
    "name": "ipython",
    "version": 3
   },
   "file_extension": ".py",
   "mimetype": "text/x-python",
   "name": "python",
   "nbconvert_exporter": "python",
   "pygments_lexer": "ipython3",
   "version": "3.10.12"
  },
  "orig_nbformat": 4
 },
 "nbformat": 4,
 "nbformat_minor": 2
}
