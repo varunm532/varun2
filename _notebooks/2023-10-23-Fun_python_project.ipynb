{
 "cells": [
  {
   "cell_type": "markdown",
   "metadata": {},
   "source": [
    "---\n",
    "toc: true\n",
    "comments: false\n",
    "layout: post\n",
    "title: Fun Python code project\n",
    "type: hacks\n",
    "courses: { compsci: {week: 10} }\n",
    "---"
   ]
  },
  {
   "cell_type": "code",
   "execution_count": 3,
   "metadata": {},
   "outputs": [
    {
     "name": "stdout",
     "output_type": "stream",
     "text": [
      "Your character Bob is op\n",
      "Your speed stat is: 1, your strength stat is: 9, your luck stat is: 5\n",
      "Boss hp = 90\n",
      "character hp = 51\n",
      "Boss hp = 70\n",
      "character hp = 45\n",
      "Boss hp = 50\n",
      "character hp = 35\n",
      "Boss hp = 40\n",
      "character hp = 26\n",
      "Boss hp = 30\n",
      "character hp = 26\n",
      "Boss hp = 10\n",
      "character hp = 18\n",
      "Boss hp = -10\n",
      "character hp = 15\n"
     ]
    }
   ],
   "source": [
    "import random\n",
    "\n",
    "class Character:\n",
    "    def __init__(self, name):\n",
    "        self.name = name\n",
    "        self.speed = 0\n",
    "        self.strength = 0\n",
    "        self.luck = 0\n",
    "        self.hp = 0\n",
    "\n",
    "bosshp = 100\n",
    "\n",
    "def character_change(name):\n",
    "    input(\"Enter your name\")\n",
    "    character = Character(name)\n",
    "    \n",
    "    character.speed = random.randint(0, 10)\n",
    "    x = character.speed\n",
    "    character.strength = random.randint(0, 8)\n",
    "    y = character.strength\n",
    "    character.luck = random.randint(0, 10)\n",
    "    z = character.luck\n",
    "    \n",
    "    if (x + y + z) >= 15:\n",
    "        print(\"Your character \" + name + \" is op\") \n",
    "        print(\"Your speed stat is: \" + str(x) + \", your strength stat is: \" + str(y) + \", your luck stat is: \" + str(z))\n",
    "    else:\n",
    "        print(\"Your character is normal\")\n",
    "        print(\"Your speed stat is: \" + str(x) + \", your strength stat is: \" + str(y) + \", your luck stat is: \" + str(z))\n",
    "    return x,y,z\n",
    "result_x, result_y, result_z = character_change(\"Bob\")\n",
    "\n",
    "Character.hp = random.randint(40, 60)\n",
    "w = Character.hp\n",
    "start_stop = input(\"Would you like to start the game? (yes or no) \")\n",
    "gameend = False\n",
    "if start_stop.lower() == \"yes\":\n",
    "    while gameend == False:\n",
    "        \n",
    "       attack_choice = input(\"Would you like to attack or defend\")\n",
    "       if attack_choice.lower() == \"attack\":\n",
    "           attack_damage = 0\n",
    "           attack_multiplyer = random.randint(1,2)\n",
    "           attack_damage = (result_x+result_y)* attack_multiplyer\n",
    "           bosshp = bosshp - attack_damage\n",
    "           print(\"Boss hp = \" +str(bosshp))\n",
    "           bossdamage = random.randint(0,10)\n",
    "           Character.hp = Character.hp - bossdamage\n",
    "           print(\"character hp = \" + str(Character.hp))\n",
    "           if Character.hp <= 0 or bosshp <= 0:\n",
    "               gameend = True\n",
    "           \n",
    "           \n",
    "       else:\n",
    "           reduction_multiplyer = random.randint(1,3)\n",
    "           damage_reduce =(result_x+result_z)/reduction_multiplyer\n",
    "           bossdamage = random.randint(0,10) - damage_reduce\n",
    "           Character.hp = Character.hp - bossdamage\n",
    "           print(\"character hp = \" + str(Character.hp))\n",
    "           \n",
    "        \n",
    "           if Character.hp <= 0 :\n",
    "               gameend = True\n",
    "           \n",
    "           \n",
    "    \n",
    "else:\n",
    "    print(\"Ok\")"
   ]
  }
 ],
 "metadata": {
  "kernelspec": {
   "display_name": "Python 3",
   "language": "python",
   "name": "python3"
  },
  "language_info": {
   "codemirror_mode": {
    "name": "ipython",
    "version": 3
   },
   "file_extension": ".py",
   "mimetype": "text/x-python",
   "name": "python",
   "nbconvert_exporter": "python",
   "pygments_lexer": "ipython3",
   "version": "3.10.12"
  }
 },
 "nbformat": 4,
 "nbformat_minor": 2
}
