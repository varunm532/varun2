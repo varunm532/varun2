{
 "cells": [
  {
   "cell_type": "markdown",
   "metadata": {},
   "source": [
    "---\n",
    "toc: true\n",
    "comments: false\n",
    "layout: post\n",
    "title:  Tic Tac Toe game  \n",
    "type: hacks\n",
    "courses: { compsci: {week: 3} }\n",
    "---"
   ]
  },
  {
   "cell_type": "code",
   "execution_count": 1,
   "metadata": {},
   "outputs": [
    {
     "name": "stdout",
     "output_type": "stream",
     "text": [
      "   |   |   \n",
      "---+---+---\n",
      "   |   |   \n",
      "---+---+---\n",
      "   |   |   \n",
      " X |   |   \n",
      "---+---+---\n",
      "   |   |   \n",
      "---+---+---\n",
      "   |   |   \n",
      " X | O |   \n",
      "---+---+---\n",
      "   |   |   \n",
      "---+---+---\n",
      "   |   |   \n",
      " X | O | X \n",
      "---+---+---\n",
      "   |   |   \n",
      "---+---+---\n",
      "   |   |   \n",
      " X | O | X \n",
      "---+---+---\n",
      "   | O |   \n",
      "---+---+---\n",
      "   |   |   \n",
      " X | O | X \n",
      "---+---+---\n",
      " X | O |   \n",
      "---+---+---\n",
      "   |   |   \n",
      " X | O | X \n",
      "---+---+---\n",
      " X | O |   \n",
      "---+---+---\n",
      "   | O |   \n",
      "Player X wins!\n"
     ]
    }
   ],
   "source": [
    "# Define constants for the players\n",
    "PLAYER_X = \"X\"\n",
    "PLAYER_O = \"O\"\n",
    "# Initialize an empty board\n",
    "board = [\" \" for _ in range(9)]\n",
    "# Function to print the Tic-Tac-Toe board\n",
    "def print_board():\n",
    "    print(f\" {board[0]} | {board[1]} | {board[2]} \")\n",
    "    print(\"---+---+---\")\n",
    "    print(f\" {board[3]} | {board[4]} | {board[5]} \")\n",
    "    print(\"---+---+---\")\n",
    "    print(f\" {board[6]} | {board[7]} | {board[8]} \")\n",
    "# Function to check if the game is over\n",
    "def is_game_over():\n",
    "    # Check rows, columns, and diagonals for a win\n",
    "    win_conditions = [(0, 1, 2), (3, 4, 5), (6, 7, 8), (0, 3, 6), (1, 4, 7), (2, 5, 8), (0, 4, 8), (2, 4, 6)]\n",
    "    for condition in win_conditions:\n",
    "        if board[condition[0]] == board[condition[1]] == board[condition[2]] != \" \":\n",
    "            return True\n",
    "    # Check for a draw (no more empty spaces)\n",
    "    if \" \" not in board:\n",
    "        return True\n",
    "    return False\n",
    "# Function to play the game\n",
    "def play_game():\n",
    "    current_player = PLAYER_X\n",
    "    while not is_game_over():\n",
    "        print_board()\n",
    "        move = int(input(f\"Player {current_player}, enter your move (1-9): \")) - 1\n",
    "        if 0 <= move < 9 and board[move] == \" \":\n",
    "            board[move] = current_player\n",
    "            current_player = PLAYER_X if current_player == PLAYER_O else PLAYER_O\n",
    "        else:\n",
    "            print(\"Invalid move. Try again.\")\n",
    "    print_board()\n",
    "    if \" \" not in board:\n",
    "        print(\"It's a draw!\")\n",
    "    else:\n",
    "        print(\"Current player wins!\")\n",
    "# Start the game\n",
    "play_game()"
   ]
  }
 ],
 "metadata": {
  "kernelspec": {
   "display_name": "Python 3",
   "language": "python",
   "name": "python3"
  },
  "language_info": {
   "codemirror_mode": {
    "name": "ipython",
    "version": 3
   },
   "file_extension": ".py",
   "mimetype": "text/x-python",
   "name": "python",
   "nbconvert_exporter": "python",
   "pygments_lexer": "ipython3",
   "version": "3.10.12"
  },
  "orig_nbformat": 4
 },
 "nbformat": 4,
 "nbformat_minor": 2
}
