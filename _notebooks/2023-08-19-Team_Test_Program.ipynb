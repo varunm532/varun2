{
 "cells": [
  {
   "cell_type": "markdown",
   "metadata": {},
   "source": [
    "---\n",
    "toc: true\n",
    "comments: false\n",
    "layout: post\n",
    "title:  Team Test Program layout\n",
    "type: hacks\n",
    "courses: { compsci: {week: 5} }\n",
    "---"
   ]
  },
  {
   "cell_type": "code",
   "execution_count": null,
   "metadata": {},
   "outputs": [],
   "source": [
    "#imports the libary\n",
    "import getpass, sys \n",
    "#defines the function\n",
    "#promt is the questions\n",
    "def question_with_response(prompt):\n",
    "    print(\"Question: \" + prompt)\n",
    "    msg = input()\n",
    "    return msg\n",
    "#variables\n",
    "questions = 7\n",
    "correct = 0\n",
    "#into words\n",
    "print('Hello, ' + getpass.getuser() + \" running \" + sys.executable)\n",
    "print(\"You will be asked \" + str(questions) + \" questions.\")\n",
    "print(\"Are you ready to take a test?\")\n",
    "\n",
    "quest = [ \"What command is used to include other functions that were previously developed?\",\"What command is used to evaluate correct or incorrect response in this example?\",\"Each 'if' command contains an '_________' to determine a true or false condition?\",\"What key word in python defines a function?\",\"What key word turns a variable into a string?\",\"what command stores what the user types?\",\"what command is followed b 'if'?\"]\n",
    "\n",
    "Answers = {\n",
    "    \"0\" : [\"import\",\"Import\"],\n",
    "    \"1\" : [\"if\", \"If\"],\n",
    "    \"2\" : [\"expression\",\"Expression\"],\n",
    "    \"3\" : [\"def\",\"Def\"],\n",
    "    \"4\" : [\"str\",\"Str\"],\n",
    "    \"5\" : [\"input\",\"Input\"],\n",
    "    \"6\" : [\"else\",\"Else\"]\n",
    "}\n",
    "\n",
    "q = -1\n",
    "\n",
    "while q <6:\n",
    "    q += 1\n",
    "    rsp = question_with_response(quest[q])\n",
    "    if rsp in Answers[str(q)]:\n",
    "        print( rsp + \" is correct\")\n",
    "        correct += 1\n",
    "    else:\n",
    "        print( rsp +(\" is incorrect\"))\n",
    "\n",
    "# the value in the variable correct is divided by the value in the variable question and then multiplied by 100\n",
    "# this value is saved in the variable percentage\n",
    "percentage = correct/questions *100\n",
    "\n",
    "if percentage < 50:\n",
    "    print(getpass.getuser() + \" You failed\")\n",
    "else:\n",
    "    print(getpass.getuser() +\" You passed\")\n",
    "\n",
    "\n",
    "#getpass.getuser() takes the user name  and str converts the variable correct into a string\n",
    "#this is the same with the variable question\n",
    "print( \" you scored \" + str(correct) +\"/\" + str(questions))\n",
    "print(\"or \" + str(percentage) +\"%\")\n",
    "# To show the percentage, the calculated value in the variable \"percentage\" then convert into a string \n",
    "\n"
   ]
  },
  {
   "cell_type": "markdown",
   "metadata": {},
   "source": [
    "### Example of Output"
   ]
  },
  {
   "cell_type": "code",
   "execution_count": null,
   "metadata": {},
   "outputs": [],
   "source": [
    "# example of Output in this code\n",
    "\n",
    "print(\"Are you ready to take a test?\")"
   ]
  },
  {
   "cell_type": "markdown",
   "metadata": {},
   "source": [
    "This code prints out \"Are you ready to take a test?"
   ]
  },
  {
   "cell_type": "markdown",
   "metadata": {},
   "source": [
    "### Example of Input with output"
   ]
  },
  {
   "cell_type": "code",
   "execution_count": null,
   "metadata": {},
   "outputs": [],
   "source": [
    "# example of Input and Output in this code\n",
    "def question_with_response(prompt):\n",
    "    print(\"Question: \" + prompt)\n",
    "    msg = input()\n",
    "    return msg"
   ]
  },
  {
   "cell_type": "markdown",
   "metadata": {},
   "source": [
    "In this code the user input is stored the in the variable msg. It also prints out \"questions:\" with a prompt "
   ]
  },
  {
   "cell_type": "markdown",
   "metadata": {},
   "source": [
    "### Example of a List in this program"
   ]
  },
  {
   "cell_type": "code",
   "execution_count": null,
   "metadata": {},
   "outputs": [],
   "source": [
    "# example of a list in this program\n",
    "quest = [ \"What command is used to include other functions that were previously developed?\",\"What command is used to evaluate correct or incorrect response in this example?\",\"Each 'if' command contains an '_________' to determine a true or false condition?\",\"What key word in python defines a function?\",\"What key word turns a variable into a string?\",\"what command stores what the user types?\",\"what command is followed b 'if'?\"]"
   ]
  },
  {
   "cell_type": "markdown",
   "metadata": {},
   "source": [
    "In this code, the all the questions/prompts are in a list "
   ]
  },
  {
   "cell_type": "markdown",
   "metadata": {},
   "source": [
    "### Example of a dictinary in this program"
   ]
  },
  {
   "cell_type": "code",
   "execution_count": null,
   "metadata": {},
   "outputs": [],
   "source": [
    "# example of a dictionary in this program\n",
    "Answers = {\n",
    "    \"0\" : [\"import\",\"Import\"],\n",
    "    \"1\" : [\"if\", \"If\"],\n",
    "    \"2\" : [\"expression\",\"Expression\"],\n",
    "    \"3\" : [\"def\",\"Def\"],\n",
    "    \"4\" : [\"str\",\"Str\"],\n",
    "    \"5\" : [\"input\",\"Input\"],\n",
    "    \"6\" : [\"else\",\"Else\"]\n",
    "}"
   ]
  },
  {
   "cell_type": "markdown",
   "metadata": {},
   "source": [
    "In this code, all the answers are organized per question in dictionary"
   ]
  },
  {
   "cell_type": "markdown",
   "metadata": {},
   "source": [
    "### Example of a Iteration "
   ]
  },
  {
   "cell_type": "code",
   "execution_count": null,
   "metadata": {},
   "outputs": [],
   "source": [
    "# Example of Iteration in this code\n",
    "q = -1\n",
    "\n",
    "while q <6:\n",
    "    q += 1\n",
    "    rsp = question_with_response(quest[q])\n",
    "    if rsp in Answers[str(q)]:\n",
    "        print( rsp + \" is correct\")\n",
    "        correct += 1\n",
    "    else:\n",
    "        print( rsp +(\" is incorrect\"))\n"
   ]
  },
  {
   "cell_type": "markdown",
   "metadata": {},
   "source": [
    "In this code, a while loop is used to simplify the code. It uses logic to loop the code until the number of questions runs out."
   ]
  },
  {
   "cell_type": "markdown",
   "metadata": {},
   "source": [
    "### Example of a function that performs mathematical calculations"
   ]
  },
  {
   "cell_type": "code",
   "execution_count": null,
   "metadata": {},
   "outputs": [],
   "source": [
    "# example of a function to perform mathematical and/or a statistical calculations.\n",
    "percentage = correct/questions *100\n"
   ]
  },
  {
   "cell_type": "markdown",
   "metadata": {},
   "source": [
    "In this code, the percentage is found using the # of questions the user got correct, dividing it by the total number of questions and multiplying that by 100"
   ]
  },
  {
   "cell_type": "markdown",
   "metadata": {},
   "source": [
    "### Example of a function with a selection/condition"
   ]
  },
  {
   "cell_type": "code",
   "execution_count": null,
   "metadata": {},
   "outputs": [],
   "source": [
    "# example of a function with a Selection/Condition\n",
    "if rsp in Answers[str(q)]:\n",
    "        print( rsp + \" is correct\")\n",
    "        correct += 1\n",
    "    else:\n",
    "        print( rsp +(\" is incorrect\"))"
   ]
  },
  {
   "cell_type": "markdown",
   "metadata": {},
   "source": [
    "In this code, it checks if the user input is correct. The conditions is, if the user is correct, then it prints out that the input is correct, but if it is wrong, the code prints out that the input is incorrect"
   ]
  }
 ],
 "metadata": {
  "kernelspec": {
   "display_name": "Python 3",
   "language": "python",
   "name": "python3"
  },
  "language_info": {
   "name": "python",
   "version": "3.10.12"
  },
  "orig_nbformat": 4
 },
 "nbformat": 4,
 "nbformat_minor": 2
}
