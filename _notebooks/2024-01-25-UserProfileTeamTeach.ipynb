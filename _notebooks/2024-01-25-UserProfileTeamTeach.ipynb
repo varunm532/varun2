{
 "cells": [
  {
   "cell_type": "markdown",
   "metadata": {},
   "source": [
    "---\n",
    "title: User Profile Lesson\n",
    "toc: true\n",
    "comments: false\n",
    "layout: post \n",
    "type: hacks\n",
    "courses: { compsci: {week: 18} }\n",
    "---"
   ]
  },
  {
   "cell_type": "markdown",
   "metadata": {},
   "source": [
    "# JS/Python/Flask Full Stack and User profile\n",
    "\n",
    "Under UserAPI there are nested classes Security and CRUD.\n",
    "\n",
    "## CRUD operations\n"
   ]
  },
  {
   "cell_type": "markdown",
   "metadata": {},
   "source": [
    "CRUD is an acronym related to the basic operations done on data within a database\n",
    "\n",
    "- Create: POST requests\n",
    "\n",
    "- Creates new user with input data\n",
    "\n",
    "- Performs error checking\n",
    "\n",
    "- Sets up user object -> adds to user database\n",
    "\n",
    "- Read: GET requests\n",
    "\n",
    "- Handles user retrieval requests\n",
    "\n",
    "- Data -> JSON + response\n",
    "\n",
    "- Update: PUT/PATCH requests\n",
    "\n",
    "- Updates based on user input\n",
    "\n",
    "- Commits changes to user database\n",
    "\n",
    "- This is done with the PUT request\n",
    "\n",
    "- Delete: DELETE requests\n",
    "\n",
    "- Handles user delete requests\n",
    "\n",
    "- Deletes user from database"
   ]
  },
  {
   "cell_type": "markdown",
   "metadata": {},
   "source": [
    "## Security\n",
    "\n",
    "- Validates data through HTTP POST requests\n",
    "\n",
    "- Find user id and checks validity of entered password with that stored\n",
    "\n",
    "- JSON response with authentication status, ex. Login if valid, and no login in invalid\n",
    "\n",
    "- Not necessarily authorization - authentication allows login while authorization allows access to a certain resource"
   ]
  },
  {
   "cell_type": "markdown",
   "metadata": {},
   "source": [
    "## Uses of HTTP requests in our code\n",
    "\n",
    "- Create request used for the addition of new users\n",
    "\n",
    "- Post-request displays are user data table\n",
    "\n",
    "- Put request implemented to update user information\n",
    "\n",
    "- Delete request removes specified users"
   ]
  }
 ],
 "metadata": {
  "language_info": {
   "name": "python"
  }
 },
 "nbformat": 4,
 "nbformat_minor": 2
}
