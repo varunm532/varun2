{
 "cells": [
  {
   "cell_type": "markdown",
   "metadata": {},
   "source": [
    "---\n",
    "layout: post\n",
    "hide: false\n",
    "title: Basics of HTML Guide\n",
    "description: An introduction to basic HTML, and resources to learn more.\n",
    "type: ccc\n",
    "permalink: /basics/html\n",
    "author: Rohan Juneja\n",
    "---"
   ]
  },
  {
   "cell_type": "raw",
   "metadata": {},
   "source": [
    "{% include nav_basics.html %}\n"
   ]
  },
  {
   "cell_type": "markdown",
   "metadata": {},
   "source": [
    "\n",
    "# How does HTML work?\n",
    "Similar function to Markdown, syntax defines how stuff should be displayed\n",
    "- HTML is based on beginning and closing tags `<tagname>content</tagname>`\n",
    "  - Note the \"/\" on the ending or closing tag of the pair"
   ]
  },
  {
   "cell_type": "markdown",
   "metadata": {},
   "source": [
    "## Compare markdown to html below\n",
    "This below example shows comparison of a [heading](https://www.w3schools.com/html/html_headings.asp) and [paragraph](https://www.w3schools.com/html/html_paragraphs.asp).  Click on links to see many more HTML examples."
   ]
  },
  {
   "cell_type": "code",
   "execution_count": 8,
   "metadata": {},
   "outputs": [
    {
     "data": {
      "text/markdown": [
       "\n",
       "### Markdown: This is a Heading\n",
       "\n",
       "This is a paragraph\n"
      ],
      "text/plain": [
       "<IPython.core.display.Markdown object>"
      ]
     },
     "metadata": {},
     "output_type": "display_data"
    }
   ],
   "source": [
    "%%markdown\n",
    "\n",
    "### Markdown: This is a Heading\n",
    "\n",
    "This is a paragraph\n"
   ]
  },
  {
   "cell_type": "code",
   "execution_count": 9,
   "metadata": {
    "vscode": {
     "languageId": "html"
    }
   },
   "outputs": [
    {
     "data": {
      "text/html": [
       "\n",
       "<h3>HTML: This is a Heading</h3>\n",
       "<p>This is a paragraph.</p>\n"
      ],
      "text/plain": [
       "<IPython.core.display.HTML object>"
      ]
     },
     "metadata": {},
     "output_type": "display_data"
    }
   ],
   "source": [
    "%%html\n",
    "\n",
    "<h3>HTML: This is a Heading</h3>\n",
    "<p>This is a paragraph.</p>"
   ]
  },
  {
   "cell_type": "markdown",
   "metadata": {},
   "source": [
    "# Attributes\n",
    "- Learn about [attributes](https://www.w3schools.com/html/html_attributes.asp) \n",
    "- Tags can have additional info in the form of attributes\n",
    "- Attributes usually come in name/value pairs like: name=\"value\"\n",
    "\n",
    "```html\n",
    "<tagname attribute_name=\"attribute_value\" another_attribute=\"another_value\">inner html text</tagname>\n",
    "```\n",
    "\n",
    "- href example with attribute for web link and inner html to describe link\n",
    "\n",
    "```html\n",
    "<a href=\"https://www.w3schools.com/html/default.asp\">Visit W3Schools HTML Page</a>\n",
    "```"
   ]
  },
  {
   "cell_type": "markdown",
   "metadata": {},
   "source": [
    "## Sample Markdown vs HTML Tags\n",
    "Image Tag - Markdown\n",
    "\n",
    "```md\n",
    "![describe image](link to image)\n",
    "```\n",
    "\n",
    "Image Tag - HTML\n",
    "\n",
    "```html\n",
    "<!-- no content so no end tag, width/height is optional (in pixels) -->\n",
    "<img alt=\"describe image\" src=\"link to image\" width=\"100\" height=\"200\">\n",
    "```\n",
    "\n",
    "Link Tag - Markdown\n",
    "\n",
    "```md\n",
    "[link text](link)\n",
    "```\n",
    "\n",
    "Link Tag - HTML\n",
    "\n",
    "```html\n",
    "<a href=\"link\">link text</a>\n",
    "```\n",
    "\n",
    "Bolded Text - Markdown\n",
    "\n",
    "```md\n",
    "**Bolded Text**\n",
    "```\n",
    "\n",
    "Bolded Text - HTML\n",
    "\n",
    "```md\n",
    "<strong>Bolded Text</strong>\n",
    "```\n",
    "\n",
    "Italic Text - Markdown\n",
    "\n",
    "```md\n",
    "*Italic Text*\n",
    "```\n",
    "\n",
    "Italic Text - HTML\n",
    "\n",
    "```md\n",
    "<i>Italic Text</i>\n",
    "```"
   ]
  },
  {
   "cell_type": "markdown",
   "metadata": {},
   "source": [
    "# More tags (not really in markdown)\n",
    "P tag (just represeants a paragraph/normal text)\n",
    "\n",
    "```html\n",
    "<p>This is a paragraph</p>\n",
    "```\n",
    "\n",
    "Button\n",
    "\n",
    "```html\n",
    "<button>some button text</button>\n",
    "```\n",
    "\n",
    "Div (groups together related content)\n",
    "\n",
    "```html\n",
    "<!-- first information -->\n",
    "<div>\n",
    "    <!-- notice how tags can be put INSIDE eachother -->\n",
    "    <p>This is the first paragarph of section 1</p>\n",
    "    <p>This is the second paragraph of section 1</p>\n",
    "</div>\n",
    "\n",
    "<!-- second information -->\n",
    "<div>\n",
    "    <!-- notice how tags can be put INSIDE eachother -->\n",
    "    <p>This is the first paragarph of section 2</p>\n",
    "    <p>This is the second paragraph of section 2</p>\n",
    "</div>\n",
    "```\n",
    "\n"
   ]
  },
  {
   "cell_type": "markdown",
   "metadata": {},
   "source": [
    "# Resources\n",
    "- https://www.w3schools.com/html/default.asp\n",
    "- I will show a demo of how to find information on this website"
   ]
  },
  {
   "cell_type": "markdown",
   "metadata": {},
   "source": [
    "# HTML Hacks\n",
    "- Below is a wireframe for an HTML element you will create. A wireframe is a rough visual representation of HTML elements on a page and isn't necessarily to scale or have the exact styling that the final HTML will have. Using the syntax above, try to create an HTML snippet that corresponds to the below wireframe.\n",
    "- The \"a tags\" can contain any links that you want\n",
    "\n",
    "![wireframe for html hacks]({{ site.baseurl }}/images/wireframe.png)"
   ]
  },
  {
   "cell_type": "code",
   "execution_count": 5,
   "metadata": {
    "vscode": {
     "languageId": "html"
    }
   },
   "outputs": [
    {
     "data": {
      "text/html": [
       "\n",
       "<!-- put your HTML code in this cell, Make sure to press the Run button to see your results below -->\n",
       "<div>\n",
       "    <h1><font color=\"red\">F1 World Championships</font> </h1>\n",
       "</div>\n",
       "<div>\n",
       "    <a href=\"https://en.wikipedia.org/wiki/List_of_Formula_One_World_Drivers%27_Champions\"><button>Source</button></a>\n",
       "    \n",
       "</div>\n",
       "<div>\n",
       "    <h2>What is f1</h2>\n",
       "    <p> F1 is considered one of the most pretigious and the highest level of single single-seat, open-wheel and open-cockpit professional motor racing contest. It has been going on</p>\n",
       "</div>\n",
       "<div>\n",
       "    <h2> Top 5 greates drivers of all time</h2>\n",
       "    <a href=\"https://en.wikipedia.org/wiki/Lewis_Hamilton\"><img src=\"https://encrypted-tbn0.gstatic.com/images?q=tbn:ANd9GcSoRHXRUdKP5400xfeXFwqgFyRqI2Qe8uCgHg&usqp=CAU\"></a>\n",
       "    <h3> Lewis Hamilton </h3>\n",
       "    <p>Starting his f1 racing career in 2007, he has won 7 world Championships and currently still holds the record for most career wins of 103. </p>\n",
       "</div>\n",
       "<div>\n",
       "    <a href=\"https://en.wikipedia.org/wiki/Michael_Schumacher\"><img src=\"https://media.formula1.com/content/dam/fom-website/manual/Michael%20Schumacher%20main.jpg.img.1536.high.jpg\"></a>\n",
       "    <h3>Michael Schumacher</h3>\n",
       "    <p>Starting his f1 racing career in 1991, and retiring at 2012, he has won 7 world Championships and won 91 races during his time in F1</p>\n",
       "</div>\n",
       "<div>\n",
       "    <a href=\"https://en.wikipedia.org/wiki/Sebastian_Vettel\"><img src=\"https://hips.hearstapps.com/hmg-prod/images/sebastian-vettel-of-germany-and-infiniti-red-bull-racing-news-photo-1672327385.jpg\"></a>\n",
       "    <h3>Sebastian Vettel</h3>\n",
       "    <p>Starting his f1 racing career in 2007, and announcing his retirement in 2022, he was and still is the youngest person to achieve 4 concencutive World Championships and won 53 races during his time in F1</p>\n",
       "</div>\n",
       "<div>\n",
       "    <a href=\"https://en.wikipedia.org/wiki/Alain_Prost\"><img src=\"data:image/jpeg;base64,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\"></a>\n",
       "    <h3>Alain Prost</h3>\n",
       "    <p>Starting his f1 racing career in 1980, and retiring at 1993, he has won 5 World Championships and won 51 races during his time in F1</p>\n",
       "</div>\n",
       "<div>\n",
       "    <a href=\"https://en.wikipedia.org/wiki/Max_Verstappen\"><img src=\"https://hips.hearstapps.com/hmg-prod/images/race-winner-max-verstappen-of-netherlands-and-red-bull-news-photo-1624201754.jpg\"></a>\n",
       "    <h3>Max Verstappen</h3>\n",
       "    <p>Starting his f1 racing career in 2015, he has won 2 World Championships and 48 races during his time in F1</p>\n",
       "</div>\n"
      ],
      "text/plain": [
       "<IPython.core.display.HTML object>"
      ]
     },
     "metadata": {},
     "output_type": "display_data"
    }
   ],
   "source": [
    "%%html\n",
    "\n",
    "<!-- put your HTML code in this cell, Make sure to press the Run button to see your results below -->\n",
    "<div>\n",
    "    <h1><font color=\"red\">F1 World Championships</font> </h1>\n",
    "</div>\n",
    "<div>\n",
    "    <a href=\"https://en.wikipedia.org/wiki/List_of_Formula_One_World_Drivers%27_Champions\"><button>Source</button></a>\n",
    "    \n",
    "</div>\n",
    "<div>\n",
    "    <h2>What is f1</h2>\n",
    "    <p> F1 is considered one of the most pretigious and the highest level of single single-seat, open-wheel and open-cockpit professional motor racing contest. It has been going on</p>\n",
    "</div>\n",
    "<div>\n",
    "    <h2> Top 5 greates drivers of all time</h2>\n",
    "    <a href=\"https://en.wikipedia.org/wiki/Lewis_Hamilton\"><img src=\"https://encrypted-tbn0.gstatic.com/images?q=tbn:ANd9GcSoRHXRUdKP5400xfeXFwqgFyRqI2Qe8uCgHg&usqp=CAU\"></a>\n",
    "    <h3> Lewis Hamilton </h3>\n",
    "    <p>Starting his f1 racing career in 2007, he has won 7 world Championships and currently still holds the record for most career wins of 103. </p>\n",
    "</div>\n",
    "<div>\n",
    "    <a href=\"https://en.wikipedia.org/wiki/Michael_Schumacher\"><img src=\"https://media.formula1.com/content/dam/fom-website/manual/Michael%20Schumacher%20main.jpg.img.1536.high.jpg\"></a>\n",
    "    <h3>Michael Schumacher</h3>\n",
    "    <p>Starting his f1 racing career in 1991, and retiring at 2012, he has won 7 world Championships and won 91 races during his time in F1</p>\n",
    "</div>\n",
    "<div>\n",
    "    <a href=\"https://en.wikipedia.org/wiki/Sebastian_Vettel\"><img src=\"https://hips.hearstapps.com/hmg-prod/images/sebastian-vettel-of-germany-and-infiniti-red-bull-racing-news-photo-1672327385.jpg\"></a>\n",
    "    <h3>Sebastian Vettel</h3>\n",
    "    <p>Starting his f1 racing career in 2007, and announcing his retirement in 2022, he was and still is the youngest person to achieve 4 concencutive World Championships and won 53 races during his time in F1</p>\n",
    "</div>\n",
    "<div>\n",
    "    <a href=\"https://en.wikipedia.org/wiki/Alain_Prost\"><img src=\"data:image/jpeg;base64,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\"></a>\n",
    "    <h3>Alain Prost</h3>\n",
    "    <p>Starting his f1 racing career in 1980, and retiring at 1993, he has won 5 World Championships and won 51 races during his time in F1</p>\n",
    "</div>\n",
    "<div>\n",
    "    <a href=\"https://en.wikipedia.org/wiki/Max_Verstappen\"><img src=\"https://hips.hearstapps.com/hmg-prod/images/race-winner-max-verstappen-of-netherlands-and-red-bull-news-photo-1624201754.jpg\"></a>\n",
    "    <h3>Max Verstappen</h3>\n",
    "    <p>Starting his f1 racing career in 2015, he has won 2 World Championships and 48 races during his time in F1</p>\n",
    "</div>"
   ]
  }
 ],
 "metadata": {
  "kernelspec": {
   "display_name": "Python 3",
   "language": "python",
   "name": "python3"
  },
  "language_info": {
   "codemirror_mode": {
    "name": "ipython",
    "version": 3
   },
   "file_extension": ".py",
   "mimetype": "text/x-python",
   "name": "python",
   "nbconvert_exporter": "python",
   "pygments_lexer": "ipython3",
   "version": "3.10.12"
  },
  "orig_nbformat": 4
 },
 "nbformat": 4,
 "nbformat_minor": 2
}
