{
 "cells": [
  {
   "cell_type": "code",
   "execution_count": 2,
   "metadata": {},
   "outputs": [
    {
     "name": "stdout",
     "output_type": "stream",
     "text": [
      "Hello, varunm running /bin/python\n",
      "You will be asked 7 questions.\n",
      "Are you ready to take a test?\n",
      "Question: What command is used to include other functions that were previously developed?\n"
     ]
    },
    {
     "name": "stdout",
     "output_type": "stream",
     "text": [
      "Import is correct\n"
     ]
    }
   ],
   "source": [
    "#imports the libary\n",
    "import getpass, sys \n",
    "#defines the function\n",
    "#promt is the questions\n",
    "def question_with_response(prompt):\n",
    "    print(\"Question: \" + prompt)\n",
    "    msg = input()\n",
    "    return msg\n",
    "#variables\n",
    "questions = 7\n",
    "correct = 0\n",
    "#into words\n",
    "print('Hello, ' + getpass.getuser() + \" running \" + sys.executable)\n",
    "print(\"You will be asked \" + str(questions) + \" questions.\")\n",
    "print(\"Are you ready to take a test?\")\n",
    "\n",
    "question = {\n",
    "    \"quest\": [ \"What command is used to include other functions that were previously developed?\",\"What command is used to evaluate correct or incorrect response in this example?\",\"Each 'if' command contains an '_________' to determine a true or false condition?\",\"What key word in python defines a function?\",\"What key word turns a variable into a string?\",\"what command stores what the user types?\",\"what command is followed b 'if'?\"]\n",
    "    \n",
    "}\n",
    "\n",
    "answer_1 = [\"import\",\"Import\"]\n",
    "    \n",
    "answer_2 = [\"if\", \"If\"]\n",
    "\n",
    "answer_3 = [\"expression\",\"Expression\"]\n",
    "\n",
    "answer_4 = [\"def\",\"Def\"]\n",
    "\n",
    "answer_5 = [\"str\",\"Str\"]\n",
    "\n",
    "answer_6 = [\"input\",\"Input\"]\n",
    "\n",
    "answer_7 = [\"else\",\"Else\"]\n",
    "\n",
    "rsp = question_with_response(question[\"quest\"][0])\n",
    "if rsp in answer_1:\n",
    "    print( rsp + \" is correct\")\n",
    "else:\n",
    "    print( rsp +(\" is incorrect\"))\n",
    "\n",
    "\n",
    "\n"
   ]
  }
 ],
 "metadata": {
  "kernelspec": {
   "display_name": "Python 3",
   "language": "python",
   "name": "python3"
  },
  "language_info": {
   "codemirror_mode": {
    "name": "ipython",
    "version": 3
   },
   "file_extension": ".py",
   "mimetype": "text/x-python",
   "name": "python",
   "nbconvert_exporter": "python",
   "pygments_lexer": "ipython3",
   "version": "3.10.12"
  },
  "orig_nbformat": 4
 },
 "nbformat": 4,
 "nbformat_minor": 2
}
