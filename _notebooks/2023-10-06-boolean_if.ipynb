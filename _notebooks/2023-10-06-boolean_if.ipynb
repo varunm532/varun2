{
 "cells": [
  {
   "cell_type": "markdown",
   "metadata": {},
   "source": [
    "---\n",
    "comments: true\n",
    "layout: post\n",
    "title: Booleans If\n",
    "courses: {compsci: {week: 8} }\n",
    "type: hacks\n",
    "\n",
    "---"
   ]
  },
  {
   "cell_type": "markdown",
   "metadata": {},
   "source": [
    "# Boolean If:\n",
    "## 3.5 & 3.6 Boolean Expressions & Conditionals"
   ]
  },
  {
   "cell_type": "markdown",
   "metadata": {},
   "source": [
    "## Relational Operators"
   ]
  },
  {
   "cell_type": "markdown",
   "metadata": {},
   "source": [
    "- A boolean value is either true or false\n",
    "- Typically yes or no questions like “do I have a dog?”\n",
    "- So when you write an expression to evaluate, you need to use different types of relational operators determining on the questions that we’re trying to ask\n",
    "    - Ex: when trying to test to see whether or not two values or two variables are equal, then you use the equal sign to check whether or not two values or two variables contain the same value\n",
    "        - a = b [equal to] numStudents = 30\n",
    "        - This checks whether the value is also equal to 30\n",
    "- You can also use the not equal sign to evaluate whether or not two values are not equal to each other\n",
    "    - a ≠ b [not equal to] count ≠ 10\n",
    "- We can also use the greater than or less than symbol to check whether or not something is greater than or less than then the other\n",
    "    - a > b [greater than] grade > 70\n",
    "- ou can also use the greater/less than or equal to\n",
    "    - a ≥ b [greater than or equal to] numPets ≥  0"
   ]
  },
  {
   "cell_type": "code",
   "execution_count": 1,
   "metadata": {},
   "outputs": [
    {
     "name": "stdout",
     "output_type": "stream",
     "text": [
      "False\n"
     ]
    }
   ],
   "source": [
    "num1 = 5  \n",
    "num2 = 7  \n",
    "\n",
    "are_equal = num1 == num2\n",
    "\n",
    "print(are_equal)  # This will print False in this example"
   ]
  },
  {
   "cell_type": "code",
   "execution_count": 2,
   "metadata": {},
   "outputs": [
    {
     "name": "stdout",
     "output_type": "stream",
     "text": [
      "True\n"
     ]
    }
   ],
   "source": [
    "num1 = 5  \n",
    "num2 = 7  \n",
    "\n",
    "are_not_equal = num1 != num2\n",
    "\n",
    "print(are_not_equal)  # This will print True in this example"
   ]
  },
  {
   "cell_type": "code",
   "execution_count": 3,
   "metadata": {},
   "outputs": [
    {
     "name": "stdout",
     "output_type": "stream",
     "text": [
      "True\n"
     ]
    }
   ],
   "source": [
    "num1 = 5  \n",
    "num2 = 7  \n",
    "\n",
    "is_less_than = num1 < num2\n",
    "\n",
    "print(is_less_than)  # This will print True in this example"
   ]
  },
  {
   "cell_type": "code",
   "execution_count": 4,
   "metadata": {},
   "outputs": [
    {
     "name": "stdout",
     "output_type": "stream",
     "text": [
      "False\n"
     ]
    }
   ],
   "source": [
    "num1 = 5  \n",
    "num2 = 7  \n",
    "\n",
    "is_greater_than = num1 > num2\n",
    "\n",
    "print(is_greater_than)  # This will print False in this example"
   ]
  },
  {
   "cell_type": "markdown",
   "metadata": {},
   "source": [
    "### Popcorn hack"
   ]
  },
  {
   "cell_type": "code",
   "execution_count": 5,
   "metadata": {},
   "outputs": [
    {
     "name": "stdout",
     "output_type": "stream",
     "text": [
      "True\n"
     ]
    }
   ],
   "source": [
    "x= 30\n",
    "y= 50\n",
    "y= y>x\n",
    "print(y)"
   ]
  },
  {
   "cell_type": "markdown",
   "metadata": {},
   "source": [
    "# Logical Operators\n",
    "- NOT condition: flips what is currently stored in the variable without impacting the variable/condition itself\n",
    "- AND condition: checks both conditions to produce one single Boolean true or false\n",
    "- OR condition: checks whether or not one of the conditions is true or false\n",
    "- These logical operators can be used with boolean expressions to produce a single Boolean value"
   ]
  },
  {
   "cell_type": "code",
   "execution_count": 10,
   "metadata": {},
   "outputs": [
    {
     "name": "stdout",
     "output_type": "stream",
     "text": [
      "True\n"
     ]
    }
   ],
   "source": [
    "# not condition\n",
    "isRaining = False\n",
    "result = not isRaining\n",
    "print(result)"
   ]
  },
  {
   "cell_type": "markdown",
   "metadata": {},
   "source": [
    "### popcorn\n"
   ]
  },
  {
   "cell_type": "code",
   "execution_count": 8,
   "metadata": {},
   "outputs": [
    {
     "name": "stdout",
     "output_type": "stream",
     "text": [
      "False\n"
     ]
    }
   ],
   "source": [
    "x = True\n",
    "y = not x\n",
    "print(y)"
   ]
  },
  {
   "cell_type": "code",
   "execution_count": 6,
   "metadata": {},
   "outputs": [
    {
     "name": "stdout",
     "output_type": "stream",
     "text": [
      "True\n",
      "False\n"
     ]
    }
   ],
   "source": [
    "# and conditions\n",
    "grade = 85\n",
    "result = grade > 70 and grade < 100\n",
    "print(result)\n",
    "grade = 59\n",
    "result = grade > 70 and grade < 100\n",
    "print(result)"
   ]
  },
  {
   "cell_type": "markdown",
   "metadata": {},
   "source": [
    "### Popcorn"
   ]
  },
  {
   "cell_type": "code",
   "execution_count": 9,
   "metadata": {},
   "outputs": [
    {
     "name": "stdout",
     "output_type": "stream",
     "text": [
      "True\n"
     ]
    }
   ],
   "source": [
    "grade =40\n",
    "result = grade > 0 and grade < 50\n",
    "print(result)"
   ]
  },
  {
   "cell_type": "code",
   "execution_count": 7,
   "metadata": {},
   "outputs": [
    {
     "name": "stdout",
     "output_type": "stream",
     "text": [
      "True\n",
      "False\n"
     ]
    }
   ],
   "source": [
    "# or conditions\n",
    "score = 175\n",
    "highScore = 150\n",
    "lives = 2\n",
    "result = (score > highScore) or (lives > 3)\n",
    "print(result)\n",
    "score = 175\n",
    "highScore = 150\n",
    "lives = 2\n",
    "result = (score < highScore) or (lives > 3)\n",
    "print(result)"
   ]
  },
  {
   "cell_type": "markdown",
   "metadata": {},
   "source": [
    "## Popcorn Hack\n",
    "- Create a code segment with an OR operator that is True. With the same score, change the conditions and create another expression that prints False instead of True."
   ]
  },
  {
   "cell_type": "code",
   "execution_count": 10,
   "metadata": {},
   "outputs": [
    {
     "name": "stdout",
     "output_type": "stream",
     "text": [
      "True\n",
      "False\n"
     ]
    }
   ],
   "source": [
    "Score = 50\n",
    "\n",
    "x = Score > 50  or Score == 50\n",
    "\n",
    "print (x)\n",
    "\n",
    "y = Score < 40 or score == 40\n",
    "\n",
    "print (y)"
   ]
  },
  {
   "cell_type": "markdown",
   "metadata": {},
   "source": [
    "# Relational & Logical Operators"
   ]
  },
  {
   "cell_type": "markdown",
   "metadata": {},
   "source": [
    "- Boolean values are either true or false\n",
    "- relational operators: =,≠, >, <, ≥, and ≤"
   ]
  },
  {
   "cell_type": "code",
   "execution_count": 11,
   "metadata": {},
   "outputs": [
    {
     "ename": "SyntaxError",
     "evalue": "invalid character '≠' (U+2260) (2310827571.py, line 3)",
     "output_type": "error",
     "traceback": [
      "\u001b[0;36m  File \u001b[0;32m\"/tmp/ipykernel_5087/2310827571.py\"\u001b[0;36m, line \u001b[0;32m3\u001b[0m\n\u001b[0;31m    a ≠ b\u001b[0m\n\u001b[0m      ^\u001b[0m\n\u001b[0;31mSyntaxError\u001b[0m\u001b[0;31m:\u001b[0m invalid character '≠' (U+2260)\n"
     ]
    }
   ],
   "source": [
    "# call back to relational operators\n",
    "a = b\n",
    "a ≠ b\n",
    "a > b\n",
    "a < b\n",
    "a ≥ b\n",
    "a ≤ b"
   ]
  },
  {
   "cell_type": "markdown",
   "metadata": {},
   "source": [
    "These are used to test the relationship between two variables, expressions, or values. A comparison between a relational operator evaluates to a Boolean value. "
   ]
  },
  {
   "cell_type": "code",
   "execution_count": null,
   "metadata": {},
   "outputs": [],
   "source": [
    "# call back to logical operators\n",
    "result = not isRaining # not condition\n",
    "\n",
    "result = (score > highScore) or (lives > 3) # or condition\n",
    "\n",
    "result = grade > 70 and grade < 100 # and condition"
   ]
  },
  {
   "cell_type": "markdown",
   "metadata": {},
   "source": [
    "## Different Expressions, Same Results\n",
    "\n",
    "- age ≥ 16\n",
    "- age > 16 or age = 16\n",
    "- NOT age < 16\n",
    "\n",
    "\n",
    "## Example"
   ]
  },
  {
   "cell_type": "code",
   "execution_count": 9,
   "metadata": {},
   "outputs": [
    {
     "data": {
      "text/plain": [
       "True"
      ]
     },
     "metadata": {},
     "output_type": "display_data"
    }
   ],
   "source": [
    "num = 7\n",
    "isEven = num % 2 == 0\n",
    "range = (num > 5) and (not num > 10)\n",
    "display (isEven or range)\n"
   ]
  },
  {
   "cell_type": "code",
   "execution_count": 29,
   "metadata": {},
   "outputs": [
    {
     "data": {
      "text/plain": [
       "True"
      ]
     },
     "metadata": {},
     "output_type": "display_data"
    }
   ],
   "source": [
    "# practice\n",
    "name = \"Hannah\"\n",
    "age = 17\n",
    "display ((not (name == \"Hannah\")) or (age < 20))"
   ]
  },
  {
   "cell_type": "markdown",
   "metadata": {},
   "source": [
    "## Popcorn Hack\n",
    "\n",
    "Create a Boolean expression using your favHobby as a variable and the number of classes you are taking as the second variable.\n",
    "- Must have:\n",
    "- favHobby and number of classes --> 2 variables\n",
    "- display expression; NOT and OR logical operators\n",
    "- one false expression and one true expression = overall true"
   ]
  },
  {
   "cell_type": "code",
   "execution_count": 12,
   "metadata": {},
   "outputs": [
    {
     "data": {
      "text/plain": [
       "True"
      ]
     },
     "metadata": {},
     "output_type": "display_data"
    }
   ],
   "source": [
    "# start with\n",
    "favHobby = \"Video Games\"\n",
    "numClasses =  5\n",
    "display( not favHobby == \"Video Games\" or numClasses < 10)"
   ]
  },
  {
   "cell_type": "markdown",
   "metadata": {},
   "source": [
    "# learning objective: write algorithms that uses selection without using a programming language\n",
    "## vocab\n",
    "selection: determines which part of an algorithm are executed based on condition being true or false\n",
    "algorithm: a finite set of instructions that accomplish a specific task\n",
    "### ex determine if a number is in range\n",
    "- get number from user\n",
    "- is number greater than - and less than 10\n",
    "- if yes display number\n",
    "- if no display goodbye"
   ]
  },
  {
   "cell_type": "markdown",
   "metadata": {},
   "source": [
    "# participation hack:\n",
    "give me different ways you would determine if a kid needs to go to tutoring\n",
    "- have low grades\n",
    "- doesn't understand the topic"
   ]
  },
  {
   "cell_type": "markdown",
   "metadata": {},
   "source": [
    "# writing conditionals\n",
    "### format\n",
    "if (condition) :\n",
    "    <block of statements>\n",
    "- if the condition evaluates to true then the block of statements occurs\n",
    "- if not then no action is taken\n",
    "or\n",
    "if (condition) :\n",
    "    <first block of statements>\n",
    "else:\n",
    "    <second block of statements>\n",
    "-  if the condition is true then first block is executed if false then the second black or else statement is executed"
   ]
  },
  {
   "cell_type": "markdown",
   "metadata": {},
   "source": [
    "## Example -- multiple of 3?"
   ]
  },
  {
   "cell_type": "code",
   "execution_count": 1,
   "metadata": {},
   "outputs": [
    {
     "name": "stdout",
     "output_type": "stream",
     "text": [
      "multiple of 3\n"
     ]
    }
   ],
   "source": [
    "number = 9\n",
    "if number % 3 == 0 :\n",
    "    print (\"multiple of 3\")\n",
    "else:\n",
    "    print (\"not multiple of 3\")"
   ]
  },
  {
   "cell_type": "markdown",
   "metadata": {},
   "source": [
    "# Popcorn Hack\n",
    "calculate the sum of two numbers -> if the sum is greater than 100 display 100, otherwise display the sum."
   ]
  },
  {
   "cell_type": "markdown",
   "metadata": {},
   "source": [
    "help you guys get started:\n",
    "num 1 =\n",
    "num 2 =\n",
    "sum = num 1 + num 2\n",
    "if ():\n",
    "else :"
   ]
  },
  {
   "cell_type": "code",
   "execution_count": 14,
   "metadata": {},
   "outputs": [
    {
     "name": "stdout",
     "output_type": "stream",
     "text": [
      "70\n"
     ]
    }
   ],
   "source": [
    "x = 40\n",
    "y = 30\n",
    "\n",
    "if x + y > 100:\n",
    "    print(\"100\")\n",
    "else:\n",
    "    sum = x+y\n",
    "    print(str(sum))\n"
   ]
  },
  {
   "cell_type": "markdown",
   "metadata": {},
   "source": [
    "# We can do conditional statements using if blocks that just choose or do one particular outcome based off of a condition\n",
    "# Or you can do if-else blocks to choose from two different outcomes"
   ]
  },
  {
   "cell_type": "markdown",
   "metadata": {},
   "source": [
    "IF (condition)\n",
    "{\n",
    "\t<block of statements>\n",
    "}\n",
    "ELSE\n",
    "{\n",
    "\t<second block of statements>\n",
    "}\n",
    "The else only activates if the “if condition” is FALSE"
   ]
  },
  {
   "cell_type": "markdown",
   "metadata": {},
   "source": [
    "# Example 1: if-elif-else block"
   ]
  },
  {
   "cell_type": "code",
   "execution_count": 1,
   "metadata": {},
   "outputs": [
    {
     "name": "stdout",
     "output_type": "stream",
     "text": [
      "y is less than 10\n"
     ]
    }
   ],
   "source": [
    "\n",
    "y = 7\n",
    "if y > 10:\n",
    "    print(\"y is greater than 10\")\n",
    "elif y == 10:\n",
    "    print(\"y is equal to 10\")\n",
    "else:\n",
    "    print(\"y is less than 10\")\n"
   ]
  },
  {
   "cell_type": "markdown",
   "metadata": {},
   "source": [
    "- conditional statements, or “if-statements,” affect the sequential flow of control by executing different statements based on the value of a boolean expression\n",
    "- The if/else statement executes a block of code if a specified condition is true. If the condition is false, another block of code can be executed.\n",
    "- we use an if-elif-else block to check the value of the variable y. It first checks if y is greater than 10, then if it's equal to 10, and finally, if neither of these conditions is met, it executes the code inside the else block."
   ]
  },
  {
   "cell_type": "markdown",
   "metadata": {},
   "source": [
    "## Homework:"
   ]
  },
  {
   "cell_type": "markdown",
   "metadata": {},
   "source": [
    "## Hack 1\n",
    "Write two Boolean expressions to check if the average grades of student1, student2, and student3 is at least 85. Write one expression that is false and one that is true.\n",
    "## Hack 2\n",
    "You can't go outside if the temperature is less than 20 **AND** the weather is stormy. Write the Boolean expression for the scenario.\n",
    "Screenshot your work and put it on a Google document. Share the link with Ellie Rozenkrants on Slack by Oct 12 11:59 PM."
   ]
  },
  {
   "cell_type": "markdown",
   "metadata": {},
   "source": [
    "### Hack 1"
   ]
  },
  {
   "cell_type": "code",
   "execution_count": 18,
   "metadata": {},
   "outputs": [
    {
     "data": {
      "text/plain": [
       "False"
      ]
     },
     "metadata": {},
     "output_type": "display_data"
    },
    {
     "name": "stdout",
     "output_type": "stream",
     "text": [
      "True\n",
      "False\n"
     ]
    }
   ],
   "source": [
    "Stu1 = 90\n",
    "Stu2 = 30\n",
    "Stu3 = 80\n",
    "Sum = Stu1 +Stu2 +Stu3\n",
    "Avg = Sum/3\n",
    "display(Avg > 85 or Avg == 85)\n",
    "\n",
    "true = Avg > 50\n",
    "print(true)\n",
    "false = Avg > 100\n",
    "print(false)"
   ]
  },
  {
   "cell_type": "markdown",
   "metadata": {},
   "source": [
    "### Hack 2"
   ]
  },
  {
   "cell_type": "code",
   "execution_count": 14,
   "metadata": {},
   "outputs": [
    {
     "name": "stdout",
     "output_type": "stream",
     "text": [
      "43\n",
      "0\n"
     ]
    },
    {
     "data": {
      "text/plain": [
       "False"
      ]
     },
     "metadata": {},
     "output_type": "display_data"
    },
    {
     "name": "stdout",
     "output_type": "stream",
     "text": [
      "can you go out: True\n"
     ]
    }
   ],
   "source": [
    "import random\n",
    "x = random.randint(0, 100)\t\n",
    "print(str(x))\n",
    "y = random.randint(0,1)\n",
    "print(str(y))\n",
    "if y == 0:\n",
    "    y= \"stormy\"\n",
    "else:\n",
    "    y= \"not stormy\"\n",
    "\n",
    "\n",
    "print( \"can you go out: \" + str(not display( x < 20 and  y == \"stormy\")))"
   ]
  }
 ],
 "metadata": {
  "kernelspec": {
   "display_name": "Python 3",
   "language": "python",
   "name": "python3"
  },
  "language_info": {
   "codemirror_mode": {
    "name": "ipython",
    "version": 3
   },
   "file_extension": ".py",
   "mimetype": "text/x-python",
   "name": "python",
   "nbconvert_exporter": "python",
   "pygments_lexer": "ipython3",
   "version": "3.10.12"
  }
 },
 "nbformat": 4,
 "nbformat_minor": 2
}
